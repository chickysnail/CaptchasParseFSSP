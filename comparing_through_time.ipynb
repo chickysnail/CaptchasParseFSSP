{
 "cells": [
  {
   "cell_type": "code",
   "execution_count": 1,
   "metadata": {},
   "outputs": [],
   "source": [
    "import hashlib\n",
    "import os"
   ]
  },
  {
   "cell_type": "code",
   "execution_count": 16,
   "metadata": {},
   "outputs": [],
   "source": [
    "# should be smaller \n",
    "dir = r\"Captchas1000\"\n",
    "# should be bigger\n",
    "hashesPath = r'captchas_hashes10000.txt'"
   ]
  },
  {
   "cell_type": "code",
   "execution_count": 20,
   "metadata": {},
   "outputs": [],
   "source": [
    "with open(hashesPath,'r') as f:\n",
    "    oldHashes = [line[:-1] for line in f]"
   ]
  },
  {
   "cell_type": "code",
   "execution_count": 21,
   "metadata": {},
   "outputs": [],
   "source": [
    "isFound = []\n",
    "for i, filename in enumerate(os.listdir(dir)):\n",
    "    with open(os.path.join(dir, filename), 'rb') as file:\n",
    "        image = file.read()\n",
    "        hash = hashlib.sha256(image).hexdigest()\n",
    "        if hash in oldHashes:\n",
    "            isFound.append(1)\n",
    "        else: isFound.append(0)"
   ]
  },
  {
   "cell_type": "code",
   "execution_count": 22,
   "metadata": {},
   "outputs": [
    {
     "data": {
      "text/plain": [
       "0"
      ]
     },
     "execution_count": 22,
     "metadata": {},
     "output_type": "execute_result"
    }
   ],
   "source": [
    "sum(isFound)"
   ]
  }
 ],
 "metadata": {
  "kernelspec": {
   "display_name": "Python 3.10.7 64-bit (microsoft store)",
   "language": "python",
   "name": "python3"
  },
  "language_info": {
   "codemirror_mode": {
    "name": "ipython",
    "version": 3
   },
   "file_extension": ".py",
   "mimetype": "text/x-python",
   "name": "python",
   "nbconvert_exporter": "python",
   "pygments_lexer": "ipython3",
   "version": "3.10.8"
  },
  "orig_nbformat": 4,
  "vscode": {
   "interpreter": {
    "hash": "665ca86c717135f2dde2bbef0c780eb95f2796c6da4e1765cbcfda0544f82dcd"
   }
  }
 },
 "nbformat": 4,
 "nbformat_minor": 2
}
